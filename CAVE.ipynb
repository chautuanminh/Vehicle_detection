{   
  "nbformat": 4,
  "nbformat_minor": 0,
  "metadata": {
    "colab": {
      "provenance": []
    },
    "kernelspec": {
      "name": "python3",
      "display_name": "Python 3"
    },
    "language_info": {
      "name": "python"
    }
  },
  "cells": [
    {
      "cell_type": "code",
      "source": [
        "# prompt: connect drive\n",
        "\n",
        "from google.colab import drive\n",
        "drive.mount('/content/drive')"
      ],
      "metadata": {
        "colab": {
          "base_uri": "https://localhost:8080/"
        },
        "id": "TMuhlMzcqmBQ",
        "outputId": "49e9be7d-cd9d-4a81-ac9d-9fa08685259d"
      },
      "execution_count": null,
      "outputs": [
        {
          "output_type": "stream",
          "name": "stdout",
          "text": [
            "Mounted at /content/drive\n"
          ]
        }
      ]
    },
    {
      "cell_type": "code",
      "source": [
        "import os\n",
        "import shutil\n",
        "\n",
        "src_folder = 'drive/MyDrive/ML/coil-20-proc'\n",
        "dst_folder = 'coil20-organized'\n",
        "\n",
        "os.makedirs(dst_folder, exist_ok=True)\n",
        "\n",
        "for fname in os.listdir(src_folder):\n",
        "    if fname.endswith('.png'):\n",
        "        label = fname.split('__')[0]  # e.g., obj1\n",
        "        label_path = os.path.join(dst_folder, label)\n",
        "        os.makedirs(label_path, exist_ok=True)\n",
        "        shutil.copy(os.path.join(src_folder, fname), os.path.join(label_path, fname))\n",
        "\n",
        "print(\"Images organized successfully into class folders.\")\n"
      ],
      "metadata": {
        "colab": {
          "base_uri": "https://localhost:8080/"
        },
        "id": "qp2yVTEYqNWW",
        "outputId": "307c2c31-6bc9-47c5-bda9-0873e2b23b0f"
      },
      "execution_count": null,
      "outputs": [
        {
          "output_type": "stream",
          "name": "stdout",
          "text": [
            "Images organized successfully into class folders.\n"
          ]
        }
      ]
    },
    {
      "cell_type": "code",
      "source": [
        "from torchvision import datasets, transforms\n",
        "from torch.utils.data import DataLoader\n",
        "\n",
        "transform = transforms.Compose([\n",
        "    transforms.Grayscale(num_output_channels=3),  # ResNet expects 3 channels\n",
        "    transforms.Resize((224, 224)),\n",
        "    transforms.ToTensor(),\n",
        "])\n",
        "\n",
        "dataset = datasets.ImageFolder('/content/coil20-organized', transform=transform)\n",
        "dataloader = DataLoader(dataset, batch_size=32, shuffle=True)\n",
        "\n",
        "# Get class names\n",
        "class_names = dataset.classes\n",
        "print(f\"Classes: {class_names}\")\n"
      ],
      "metadata": {
        "colab": {
          "base_uri": "https://localhost:8080/"
        },
        "id": "xT6rlw9aqO4M",
        "outputId": "904209f0-cfed-47e9-9aae-d310f92c9dad"
      },
      "execution_count": null,
      "outputs": [
        {
          "output_type": "stream",
          "name": "stdout",
          "text": [
            "Classes: ['obj1', 'obj10', 'obj11', 'obj12', 'obj13', 'obj14', 'obj15', 'obj16', 'obj17', 'obj18', 'obj19', 'obj2', 'obj20', 'obj3', 'obj4', 'obj5', 'obj6', 'obj7', 'obj8', 'obj9']\n"
          ]
        }
      ]
    },
    {
      "cell_type": "code",
      "source": [
        "# prompt: train resnet 50 on this, using train test split as well\n",
        "\n",
        "import torch\n",
        "import torch.nn as nn\n",
        "import torch.optim as optim\n",
        "from torchvision import models\n",
        "from torch.utils.data import random_split\n",
        "\n",
        "# Split the dataset into training and validation sets\n",
        "train_size = int(0.8 * len(dataset))\n",
        "val_size = len(dataset) - train_size\n",
        "train_dataset, val_dataset = random_split(dataset, [train_size, val_size])\n",
        "\n",
        "# Create data loaders for training and validation sets\n",
        "train_dataloader = DataLoader(train_dataset, batch_size=32, shuffle=True)\n",
        "val_dataloader = DataLoader(val_dataset, batch_size=32, shuffle=False)\n",
        "\n",
        "# Load the pre-trained ResNet-50 model\n",
        "model = models.resnet50(weights=models.ResNet50_Weights.DEFAULT)\n",
        "\n",
        "# Modify the output layer for the number of classes in your dataset\n",
        "num_ftrs = model.fc.in_features\n",
        "model.fc = nn.Linear(num_ftrs, len(class_names))\n",
        "\n",
        "# Set device\n",
        "device = torch.device(\"cuda\" if torch.cuda.is_available() else \"cpu\")\n",
        "model.to(device)\n",
        "\n",
        "# Define loss function and optimizer\n",
        "criterion = nn.CrossEntropyLoss()\n",
        "optimizer = optim.Adam(model.parameters(), lr=0.001)\n",
        "\n",
        "# Training loop\n",
        "num_epochs = 10  # Adjust as needed\n",
        "\n",
        "for epoch in range(num_epochs):\n",
        "    model.train()  # Set the model to training mode\n",
        "    running_loss = 0.0\n",
        "    correct_predictions = 0\n",
        "    total_samples = 0\n",
        "\n",
        "    for inputs, labels in train_dataloader:\n",
        "        inputs, labels = inputs.to(device), labels.to(device)\n",
        "\n",
        "        optimizer.zero_grad()\n",
        "\n",
        "        outputs = model(inputs)\n",
        "        loss = criterion(outputs, labels)\n",
        "\n",
        "        loss.backward()\n",
        "        optimizer.step()\n",
        "\n",
        "        running_loss += loss.item() * inputs.size(0)\n",
        "        _, predicted = torch.max(outputs.data, 1)\n",
        "        total_samples += labels.size(0)\n",
        "        correct_predictions += (predicted == labels).sum().item()\n",
        "\n",
        "    epoch_loss = running_loss / len(train_dataloader.dataset)\n",
        "    epoch_accuracy = correct_predictions / total_samples\n",
        "\n",
        "    print(f'Epoch {epoch+1}/{num_epochs}, Train Loss: {epoch_loss:.4f}, Train Accuracy: {epoch_accuracy:.4f}')\n",
        "\n",
        "    # Validation loop\n",
        "    model.eval()  # Set the model to evaluation mode\n",
        "    running_loss_val = 0.0\n",
        "    correct_predictions_val = 0\n",
        "    total_samples_val = 0\n",
        "\n",
        "    with torch.no_grad():\n",
        "        for inputs, labels in val_dataloader:\n",
        "            inputs, labels = inputs.to(device), labels.to(device)\n",
        "\n",
        "            outputs = model(inputs)\n",
        "            loss = criterion(outputs, labels)\n",
        "\n",
        "            running_loss_val += loss.item() * inputs.size(0)\n",
        "            _, predicted = torch.max(outputs.data, 1)\n",
        "            total_samples_val += labels.size(0)\n",
        "            correct_predictions_val += (predicted == labels).sum().item()\n",
        "\n",
        "    epoch_loss_val = running_loss_val / len(val_dataloader.dataset)\n",
        "    epoch_accuracy_val = correct_predictions_val / total_samples_val\n",
        "    print(f'Epoch {epoch+1}/{num_epochs}, Validation Loss: {epoch_loss_val:.4f}, Validation Accuracy: {epoch_accuracy_val:.4f}')\n",
        "\n",
        "print(\"Training finished.\")\n"
      ],
      "metadata": {
        "colab": {
          "base_uri": "https://localhost:8080/"
        },
        "id": "V-9QTdZO1S38",
        "outputId": "539a1c03-f535-4b1c-8fc9-8fe1114b8be5"
      },
      "execution_count": null,
      "outputs": [
        {
          "output_type": "stream",
          "name": "stderr",
          "text": [
            "Downloading: \"https://download.pytorch.org/models/resnet50-11ad3fa6.pth\" to /root/.cache/torch/hub/checkpoints/resnet50-11ad3fa6.pth\n",
            "100%|██████████| 97.8M/97.8M [00:00<00:00, 130MB/s]\n"
          ]
        },
        {
          "output_type": "stream",
          "name": "stdout",
          "text": [
            "Epoch 1/10, Train Loss: 0.5169, Train Accuracy: 0.8872\n",
            "Epoch 1/10, Validation Loss: 0.3366, Validation Accuracy: 0.8958\n",
            "Epoch 2/10, Train Loss: 0.0421, Train Accuracy: 0.9922\n",
            "Epoch 2/10, Validation Loss: 3.4960, Validation Accuracy: 0.7882\n",
            "Epoch 3/10, Train Loss: 0.0450, Train Accuracy: 0.9870\n",
            "Epoch 3/10, Validation Loss: 0.2161, Validation Accuracy: 0.9410\n",
            "Epoch 4/10, Train Loss: 0.0148, Train Accuracy: 0.9965\n",
            "Epoch 4/10, Validation Loss: 0.4519, Validation Accuracy: 0.8993\n",
            "Epoch 5/10, Train Loss: 0.0705, Train Accuracy: 0.9800\n",
            "Epoch 5/10, Validation Loss: 1.6444, Validation Accuracy: 0.6285\n",
            "Epoch 6/10, Train Loss: 0.0650, Train Accuracy: 0.9861\n",
            "Epoch 6/10, Validation Loss: 0.0134, Validation Accuracy: 0.9965\n",
            "Epoch 7/10, Train Loss: 0.0681, Train Accuracy: 0.9878\n",
            "Epoch 7/10, Validation Loss: 0.0410, Validation Accuracy: 0.9757\n",
            "Epoch 8/10, Train Loss: 0.0537, Train Accuracy: 0.9852\n",
            "Epoch 8/10, Validation Loss: 0.0744, Validation Accuracy: 0.9792\n",
            "Epoch 9/10, Train Loss: 0.0099, Train Accuracy: 0.9974\n",
            "Epoch 9/10, Validation Loss: 0.0544, Validation Accuracy: 0.9861\n",
            "Epoch 10/10, Train Loss: 0.0381, Train Accuracy: 0.9905\n",
            "Epoch 10/10, Validation Loss: 13.1607, Validation Accuracy: 0.5556\n",
            "Training finished.\n"
          ]
        }
      ]
    },
    {
      "cell_type": "code",
      "source": [],
      "metadata": {
        "id": "AddqKtzgY8Vc"
      },
      "execution_count": null,
      "outputs": []
    }
  ]
}
